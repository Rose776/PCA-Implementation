{
 "cells": [
  {
   "cell_type": "code",
   "execution_count": 214,
   "id": "f6e65435-05ea-4bf6-860d-c7adfcaa6879",
   "metadata": {},
   "outputs": [],
   "source": [
    "import matplotlib.pyplot as plt\n",
    "import numpy as np\n",
    "import pandas as pd\n",
    "import seaborn as sns\n",
    "from sklearn.model_selection import train_test_split\n",
    "from sklearn.neighbors import KNeighborsClassifier\n",
    "from sklearn.preprocessing import StandardScaler"
   ]
  },
  {
   "cell_type": "code",
   "execution_count": 215,
   "id": "1b8134b4-f18f-40cb-a65d-4d175c5e90b6",
   "metadata": {},
   "outputs": [],
   "source": [
    "df = pd.read_csv(\"../PCA Implementation/train.csv\")"
   ]
  },
  {
   "cell_type": "code",
   "execution_count": 216,
   "id": "417f0c0e-f1e5-41fe-a0cb-79e9655f59e2",
   "metadata": {},
   "outputs": [
    {
     "data": {
      "text/html": [
       "<div>\n",
       "<style scoped>\n",
       "    .dataframe tbody tr th:only-of-type {\n",
       "        vertical-align: middle;\n",
       "    }\n",
       "\n",
       "    .dataframe tbody tr th {\n",
       "        vertical-align: top;\n",
       "    }\n",
       "\n",
       "    .dataframe thead th {\n",
       "        text-align: right;\n",
       "    }\n",
       "</style>\n",
       "<table border=\"1\" class=\"dataframe\">\n",
       "  <thead>\n",
       "    <tr style=\"text-align: right;\">\n",
       "      <th></th>\n",
       "      <th>pixel0</th>\n",
       "      <th>pixel1</th>\n",
       "      <th>pixel2</th>\n",
       "      <th>pixel3</th>\n",
       "      <th>pixel4</th>\n",
       "      <th>pixel5</th>\n",
       "      <th>pixel6</th>\n",
       "      <th>pixel7</th>\n",
       "      <th>pixel8</th>\n",
       "      <th>pixel9</th>\n",
       "      <th>...</th>\n",
       "      <th>pixel774</th>\n",
       "      <th>pixel775</th>\n",
       "      <th>pixel776</th>\n",
       "      <th>pixel777</th>\n",
       "      <th>pixel778</th>\n",
       "      <th>pixel779</th>\n",
       "      <th>pixel780</th>\n",
       "      <th>pixel781</th>\n",
       "      <th>pixel782</th>\n",
       "      <th>pixel783</th>\n",
       "    </tr>\n",
       "  </thead>\n",
       "  <tbody>\n",
       "    <tr>\n",
       "      <th>7231</th>\n",
       "      <td>0</td>\n",
       "      <td>0</td>\n",
       "      <td>0</td>\n",
       "      <td>0</td>\n",
       "      <td>0</td>\n",
       "      <td>0</td>\n",
       "      <td>0</td>\n",
       "      <td>0</td>\n",
       "      <td>0</td>\n",
       "      <td>0</td>\n",
       "      <td>...</td>\n",
       "      <td>0</td>\n",
       "      <td>0</td>\n",
       "      <td>0</td>\n",
       "      <td>0</td>\n",
       "      <td>0</td>\n",
       "      <td>0</td>\n",
       "      <td>0</td>\n",
       "      <td>0</td>\n",
       "      <td>0</td>\n",
       "      <td>0</td>\n",
       "    </tr>\n",
       "    <tr>\n",
       "      <th>9252</th>\n",
       "      <td>0</td>\n",
       "      <td>0</td>\n",
       "      <td>0</td>\n",
       "      <td>0</td>\n",
       "      <td>0</td>\n",
       "      <td>0</td>\n",
       "      <td>0</td>\n",
       "      <td>0</td>\n",
       "      <td>0</td>\n",
       "      <td>0</td>\n",
       "      <td>...</td>\n",
       "      <td>0</td>\n",
       "      <td>0</td>\n",
       "      <td>0</td>\n",
       "      <td>0</td>\n",
       "      <td>0</td>\n",
       "      <td>0</td>\n",
       "      <td>0</td>\n",
       "      <td>0</td>\n",
       "      <td>0</td>\n",
       "      <td>0</td>\n",
       "    </tr>\n",
       "    <tr>\n",
       "      <th>37141</th>\n",
       "      <td>0</td>\n",
       "      <td>0</td>\n",
       "      <td>0</td>\n",
       "      <td>0</td>\n",
       "      <td>0</td>\n",
       "      <td>0</td>\n",
       "      <td>0</td>\n",
       "      <td>0</td>\n",
       "      <td>0</td>\n",
       "      <td>0</td>\n",
       "      <td>...</td>\n",
       "      <td>0</td>\n",
       "      <td>0</td>\n",
       "      <td>0</td>\n",
       "      <td>0</td>\n",
       "      <td>0</td>\n",
       "      <td>0</td>\n",
       "      <td>0</td>\n",
       "      <td>0</td>\n",
       "      <td>0</td>\n",
       "      <td>0</td>\n",
       "    </tr>\n",
       "    <tr>\n",
       "      <th>29896</th>\n",
       "      <td>0</td>\n",
       "      <td>0</td>\n",
       "      <td>0</td>\n",
       "      <td>0</td>\n",
       "      <td>0</td>\n",
       "      <td>0</td>\n",
       "      <td>0</td>\n",
       "      <td>0</td>\n",
       "      <td>0</td>\n",
       "      <td>0</td>\n",
       "      <td>...</td>\n",
       "      <td>0</td>\n",
       "      <td>0</td>\n",
       "      <td>0</td>\n",
       "      <td>0</td>\n",
       "      <td>0</td>\n",
       "      <td>0</td>\n",
       "      <td>0</td>\n",
       "      <td>0</td>\n",
       "      <td>0</td>\n",
       "      <td>0</td>\n",
       "    </tr>\n",
       "    <tr>\n",
       "      <th>27171</th>\n",
       "      <td>0</td>\n",
       "      <td>0</td>\n",
       "      <td>0</td>\n",
       "      <td>0</td>\n",
       "      <td>0</td>\n",
       "      <td>0</td>\n",
       "      <td>0</td>\n",
       "      <td>0</td>\n",
       "      <td>0</td>\n",
       "      <td>0</td>\n",
       "      <td>...</td>\n",
       "      <td>0</td>\n",
       "      <td>0</td>\n",
       "      <td>0</td>\n",
       "      <td>0</td>\n",
       "      <td>0</td>\n",
       "      <td>0</td>\n",
       "      <td>0</td>\n",
       "      <td>0</td>\n",
       "      <td>0</td>\n",
       "      <td>0</td>\n",
       "    </tr>\n",
       "  </tbody>\n",
       "</table>\n",
       "<p>5 rows × 784 columns</p>\n",
       "</div>"
      ],
      "text/plain": [
       "       pixel0  pixel1  pixel2  pixel3  pixel4  pixel5  pixel6  pixel7  pixel8  \\\n",
       "7231        0       0       0       0       0       0       0       0       0   \n",
       "9252        0       0       0       0       0       0       0       0       0   \n",
       "37141       0       0       0       0       0       0       0       0       0   \n",
       "29896       0       0       0       0       0       0       0       0       0   \n",
       "27171       0       0       0       0       0       0       0       0       0   \n",
       "\n",
       "       pixel9  ...  pixel774  pixel775  pixel776  pixel777  pixel778  \\\n",
       "7231        0  ...         0         0         0         0         0   \n",
       "9252        0  ...         0         0         0         0         0   \n",
       "37141       0  ...         0         0         0         0         0   \n",
       "29896       0  ...         0         0         0         0         0   \n",
       "27171       0  ...         0         0         0         0         0   \n",
       "\n",
       "       pixel779  pixel780  pixel781  pixel782  pixel783  \n",
       "7231          0         0         0         0         0  \n",
       "9252          0         0         0         0         0  \n",
       "37141         0         0         0         0         0  \n",
       "29896         0         0         0         0         0  \n",
       "27171         0         0         0         0         0  \n",
       "\n",
       "[5 rows x 784 columns]"
      ]
     },
     "execution_count": 216,
     "metadata": {},
     "output_type": "execute_result"
    }
   ],
   "source": [
    "X = df.iloc[:, 1:]  # Getting the input value\n",
    "X.sample(5)"
   ]
  },
  {
   "cell_type": "code",
   "execution_count": 217,
   "id": "8d712101-3981-49c5-81a7-f5d509f2ea12",
   "metadata": {},
   "outputs": [
    {
     "data": {
      "text/plain": [
       "0        1\n",
       "1        0\n",
       "2        1\n",
       "3        4\n",
       "4        0\n",
       "        ..\n",
       "41995    0\n",
       "41996    1\n",
       "41997    7\n",
       "41998    6\n",
       "41999    9\n",
       "Name: label, Length: 42000, dtype: int64"
      ]
     },
     "execution_count": 217,
     "metadata": {},
     "output_type": "execute_result"
    }
   ],
   "source": [
    "y = df.iloc[:, 0]  # Getting output columns\n",
    "y"
   ]
  },
  {
   "cell_type": "markdown",
   "id": "951bcef7-56d2-40a3-b0a8-106218789a50",
   "metadata": {},
   "source": [
    "### STEP 1. Mean Centring (standardization)\n"
   ]
  },
  {
   "cell_type": "code",
   "execution_count": 218,
   "id": "767c36ef-0f72-49bb-b811-31b8a25489d9",
   "metadata": {},
   "outputs": [],
   "source": [
    "# Train Test Split\n",
    "X_train, X_test, y_train, y_test = train_test_split(X, y, test_size=0.8)"
   ]
  },
  {
   "cell_type": "markdown",
   "id": "df7a396e-17f9-4721-ae68-ae008ff352cd",
   "metadata": {},
   "source": [
    "# Standarzation the Data"
   ]
  },
  {
   "cell_type": "code",
   "execution_count": 219,
   "id": "15450220-7569-4241-84bb-20ce070122dd",
   "metadata": {},
   "outputs": [],
   "source": [
    "# Standarzation the Data\n",
    "standard = StandardScaler()\n",
    "standard.fit(X_train)\n",
    "X_train_scal = standard.transform(X_train)\n",
    "X_test_scal = standard.transform(X_test)"
   ]
  },
  {
   "cell_type": "markdown",
   "id": "1de15fd3-ed3d-495d-94e4-89a46a360f14",
   "metadata": {},
   "source": [
    "# PCA Implementation"
   ]
  },
  {
   "cell_type": "code",
   "execution_count": 220,
   "id": "f6bc11ea-6028-493d-8efd-c2d7c3224f9d",
   "metadata": {},
   "outputs": [],
   "source": [
    "from sklearn.decomposition import PCA\n",
    "\n",
    "pca = PCA(n_components=41)"
   ]
  },
  {
   "cell_type": "markdown",
   "id": "7cd33c90-fe28-457e-bbe0-24c0903483f1",
   "metadata": {},
   "source": [
    "# Appling Pca"
   ]
  },
  {
   "cell_type": "code",
   "execution_count": 221,
   "id": "7e4f415f-3e7b-4a98-990c-e20477e40985",
   "metadata": {},
   "outputs": [],
   "source": [
    "# Appling Pca\n",
    "pca.fit(X_train_scal)\n",
    "X_train_pca = pca.transform(X_train_scal)\n",
    "X_test_pca = pca.transform(X_test_scal)"
   ]
  },
  {
   "cell_type": "code",
   "execution_count": 222,
   "id": "d12959a6-4321-4ed5-8db8-1a1039b8f139",
   "metadata": {},
   "outputs": [],
   "source": [
    "from sklearn.metrics import accuracy_score"
   ]
  },
  {
   "cell_type": "markdown",
   "id": "541f4edb-234a-4fbf-ae3a-16b824840a31",
   "metadata": {},
   "source": [
    "# implementing the KNN"
   ]
  },
  {
   "cell_type": "code",
   "execution_count": 223,
   "id": "691477ed-5221-4bfe-bb1d-9ccf25c4e3d3",
   "metadata": {},
   "outputs": [
    {
     "data": {
      "text/plain": [
       "0.9300595238095238"
      ]
     },
     "execution_count": 223,
     "metadata": {},
     "output_type": "execute_result"
    }
   ],
   "source": [
    "# implementing the KNN\n",
    "knn = KNeighborsClassifier(n_neighbors=5)\n",
    "knn.fit(X_train_pca, y_train)\n",
    "y_pred = knn.predict(X_test_pca)\n",
    "accuracy_score(y_test, y_pred)"
   ]
  },
  {
   "cell_type": "code",
   "execution_count": 224,
   "id": "4857b204-071b-4a93-8b08-6e2b7f528946",
   "metadata": {},
   "outputs": [
    {
     "data": {
      "text/plain": [
       "(41,)"
      ]
     },
     "execution_count": 224,
     "metadata": {},
     "output_type": "execute_result"
    }
   ],
   "source": [
    "pca.explained_variance_.shape"
   ]
  },
  {
   "cell_type": "code",
   "execution_count": 225,
   "id": "ae849f6d-1c37-4c43-9153-29e3735a4330",
   "metadata": {},
   "outputs": [
    {
     "data": {
      "text/plain": [
       "41"
      ]
     },
     "execution_count": 225,
     "metadata": {},
     "output_type": "execute_result"
    }
   ],
   "source": [
    "l = np.cumsum(pca.explained_variance_ratio_) * 100\n",
    "len(l)"
   ]
  },
  {
   "cell_type": "markdown",
   "id": "14e3df50-7e39-493c-90a9-c6713350d012",
   "metadata": {},
   "source": [
    "# Eigen values"
   ]
  },
  {
   "cell_type": "code",
   "execution_count": 226,
   "id": "f673bdca-94ab-4777-9a27-5677019cbbd4",
   "metadata": {},
   "outputs": [
    {
     "data": {
      "text/plain": [
       "array([40.81959321, 29.41339619, 26.6595936 , 20.31370261, 18.28366832,\n",
       "       15.73586166, 13.84149939, 12.58186634, 11.24611448, 10.13496776,\n",
       "        9.63566548,  8.71123529,  8.20230574,  8.05744211,  7.31033965,\n",
       "        7.11357932,  6.82216231,  6.68843803,  6.54513295,  6.3600131 ,\n",
       "        6.11941366,  5.71423261,  5.6376828 ,  5.46063153,  5.31906137,\n",
       "        5.20916038,  4.946968  ,  4.80276091,  4.66502451,  4.56799297,\n",
       "        4.45546239,  4.3268535 ,  4.26434495,  4.18595676,  4.14884329,\n",
       "        4.08098315,  3.99143928,  3.8656478 ,  3.81662803,  3.78011379,\n",
       "        3.72064684])"
      ]
     },
     "execution_count": 226,
     "metadata": {},
     "output_type": "execute_result"
    }
   ],
   "source": [
    "pca.explained_variance_\n",
    "# Eigen values"
   ]
  },
  {
   "cell_type": "markdown",
   "id": "cf4cd3e1-743c-44e1-97b0-22279d11057f",
   "metadata": {},
   "source": [
    "# Eigen vectors"
   ]
  },
  {
   "cell_type": "code",
   "execution_count": 227,
   "id": "c23b4602-fb38-4e05-83dd-3d43ae001fbc",
   "metadata": {},
   "outputs": [
    {
     "data": {
      "text/plain": [
       "(41, 784)"
      ]
     },
     "execution_count": 227,
     "metadata": {},
     "output_type": "execute_result"
    }
   ],
   "source": [
    "pca.components_.shape\n",
    "# Eigen vectors"
   ]
  },
  {
   "cell_type": "code",
   "execution_count": 228,
   "id": "8f572bec-7025-44c5-9801-c303dca212bd",
   "metadata": {},
   "outputs": [
    {
     "data": {
      "text/plain": [
       "0.9300595238095238"
      ]
     },
     "execution_count": 228,
     "metadata": {},
     "output_type": "execute_result"
    }
   ],
   "source": [
    "accuracy_score(y_test, y_pred)"
   ]
  }
 ],
 "metadata": {
  "kernelspec": {
   "display_name": "Python 3 (ipykernel)",
   "language": "python",
   "name": "python3"
  },
  "language_info": {
   "codemirror_mode": {
    "name": "ipython",
    "version": 3
   },
   "file_extension": ".py",
   "mimetype": "text/x-python",
   "name": "python",
   "nbconvert_exporter": "python",
   "pygments_lexer": "ipython3",
   "version": "3.9.12"
  }
 },
 "nbformat": 4,
 "nbformat_minor": 5
}
